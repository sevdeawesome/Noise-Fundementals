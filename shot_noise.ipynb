{
 "cells": [
  {
   "cell_type": "code",
   "execution_count": 17,
   "metadata": {},
   "outputs": [
    {
     "name": "stdout",
     "output_type": "stream",
     "text": [
      "3e-11\n"
     ]
    }
   ],
   "source": [
    "CONST_F = 111061\n",
    "CONST_IDC = .00001\n",
    "\n",
    "\n",
    "# def calc_Ishot(Vout, G2, Vn, )\n",
    "\n",
    "def calc_vn(Vout, G2):\n",
    "    return Vout * 10 / ((100*G2)**2)\n",
    "\n",
    "CONST_VN = calc_vn(.48,4000)\n",
    "print(CONST_VN)"
   ]
  },
  {
   "cell_type": "code",
   "execution_count": 18,
   "metadata": {},
   "outputs": [],
   "source": [
    "def calc_Ishot(Vout, Rf, Vn, G2):\n",
    "    return ((10* Vout / ((100*G2)**2) ) -Vn) / (Rf**2)\n",
    "\n",
    "def calc_e(Ishot, Idc, df):\n",
    "    return Ishot / ( 2 * Idc * df)"
   ]
  },
  {
   "cell_type": "code",
   "execution_count": 25,
   "metadata": {},
   "outputs": [
    {
     "name": "stdout",
     "output_type": "stream",
     "text": [
      "4.2499999999999995e-19\n",
      "1.9032691446484547e-19\n"
     ]
    }
   ],
   "source": [
    "Ishot = calc_Ishot(1.16, 10000, CONST_VN, 4000)\n",
    "print(Ishot)\n",
    "print(calc_e(Ishot, .00001, 111650))"
   ]
  },
  {
   "cell_type": "code",
   "execution_count": 23,
   "metadata": {},
   "outputs": [],
   "source": [
    "## TRY G2 = 4k"
   ]
  },
  {
   "cell_type": "code",
   "execution_count": null,
   "metadata": {},
   "outputs": [],
   "source": []
  }
 ],
 "metadata": {
  "interpreter": {
   "hash": "f4722efe245817bfc3bb8a4fead8316a452afa2e58a94a6104a75f8476cbead1"
  },
  "kernelspec": {
   "display_name": "Python 3.9.7 64-bit ('base': conda)",
   "language": "python",
   "name": "python3"
  },
  "language_info": {
   "codemirror_mode": {
    "name": "ipython",
    "version": 3
   },
   "file_extension": ".py",
   "mimetype": "text/x-python",
   "name": "python",
   "nbconvert_exporter": "python",
   "pygments_lexer": "ipython3",
   "version": "3.9.7"
  },
  "orig_nbformat": 4
 },
 "nbformat": 4,
 "nbformat_minor": 2
}
