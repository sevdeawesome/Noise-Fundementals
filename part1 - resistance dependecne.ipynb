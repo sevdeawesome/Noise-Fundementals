{
 "cells": [
  {
   "cell_type": "code",
   "execution_count": 15,
   "metadata": {},
   "outputs": [],
   "source": [
    "import numpy as np\n",
    "def calc_vn(V0, G1, G2):\n",
    "    return 10 * V0 / ((G1 * G2)**2)\n",
    "vn = calc_vn(.5732, 600, 1500)\n",
    "\n",
    "def calc_kb(V,R,T,F):\n",
    "    return ( V) / (4* R * T* F)\n",
    "\n",
    "def calc_vj(V, G1, G2):\n",
    "    return ((10*V) / ((G1 * G2)**2)) - vn\n",
    "def fit_line(x, y):\n",
    "    # given one dimensional x and y vectors - return x and y for fitting a line on top of the regression\n",
    "    # inspired by the numpy manual - https://docs.scipy.org/doc/numpy/reference/generated/numpy.linalg.lstsq.html \n",
    "    x = x.to_numpy() # convert into numpy arrays\n",
    "    y = y.to_numpy() # convert into numpy arrays\n",
    "\n",
    "    A = np.vstack([x, np.ones(len(x))]).T # sent the design matrix using the intercepts\n",
    "    m, c = np.linalg.lstsq(A, y, rcond=None)[0]\n",
    "\n",
    "    return m, c"
   ]
  },
  {
   "cell_type": "code",
   "execution_count": 2,
   "metadata": {},
   "outputs": [],
   "source": [
    "## CONSTANTS\n",
    "CONST_G1 = 600\n",
    "CONST_G2 = 1500\n",
    "CONST_R = 100\n",
    "CONST_VOUT = .5892\n",
    "CONST_DELTA_F = 110961 # THIS IS FOR .1 TO 100KHZ\n",
    "CONST_TEMP = 298.65 #ROOM TEMP MEASURED ABOVE HLE"
   ]
  },
  {
   "cell_type": "code",
   "execution_count": null,
   "metadata": {},
   "outputs": [],
   "source": []
  },
  {
   "cell_type": "code",
   "execution_count": null,
   "metadata": {},
   "outputs": [],
   "source": []
  },
  {
   "cell_type": "code",
   "execution_count": 3,
   "metadata": {},
   "outputs": [
    {
     "name": "stdout",
     "output_type": "stream",
     "text": [
      "1.4901915325188244e-23\n"
     ]
    }
   ],
   "source": [
    "kb = calc_kb( calc_vj(CONST_VOUT,CONST_G1,CONST_G2 ), CONST_R, CONST_TEMP, CONST_DELTA_F )\n",
    "print(kb)"
   ]
  },
  {
   "cell_type": "code",
   "execution_count": 4,
   "metadata": {},
   "outputs": [],
   "source": [
    "## CORRECT VALUE IS 1.38  "
   ]
  },
  {
   "cell_type": "code",
   "execution_count": null,
   "metadata": {},
   "outputs": [],
   "source": []
  },
  {
   "cell_type": "markdown",
   "metadata": {},
   "source": [
    "# BEGIN SCRIPT"
   ]
  },
  {
   "cell_type": "code",
   "execution_count": 5,
   "metadata": {},
   "outputs": [],
   "source": [
    "import pandas as pd"
   ]
  },
  {
   "cell_type": "code",
   "execution_count": 6,
   "metadata": {},
   "outputs": [],
   "source": [
    "df = pd.read_csv(\"data2.csv\")\n",
    "df[\"kb\"] = df[\"R_in\"]\n",
    "df[\"vj\"] = df[\"R_in\"]\n",
    "df[\"s\"] = df[\"R_in\"]"
   ]
  },
  {
   "cell_type": "code",
   "execution_count": 7,
   "metadata": {},
   "outputs": [],
   "source": [
    "# df"
   ]
  },
  {
   "cell_type": "code",
   "execution_count": 8,
   "metadata": {},
   "outputs": [
    {
     "data": {
      "text/plain": [
       "10.0"
      ]
     },
     "execution_count": 8,
     "metadata": {},
     "output_type": "execute_result"
    }
   ],
   "source": [
    "df.loc[1,\"kb\"]"
   ]
  },
  {
   "cell_type": "code",
   "execution_count": 9,
   "metadata": {},
   "outputs": [],
   "source": [
    "\n",
    "\n",
    "for i in range(df.iloc[:,0].size):\n",
    "    # print() # r\n",
    "    # print(df.iloc[i, 1]) # V\n",
    "    df.loc[i,\"kb\"] = calc_kb( calc_vj(df.iloc[i, 1],CONST_G1,CONST_G2 ), df.iloc[i,0], CONST_TEMP, CONST_DELTA_F )\n",
    "    df.loc[i,\"s\"] = calc_vj(df.iloc[i, 1],CONST_G1,CONST_G2 ) / CONST_DELTA_F \n",
    "    # kb_column.append()\n"
   ]
  },
  {
   "cell_type": "code",
   "execution_count": 10,
   "metadata": {},
   "outputs": [
    {
     "data": {
      "text/plain": [
       "1.5395296173043582e-23"
      ]
     },
     "execution_count": 10,
     "metadata": {},
     "output_type": "execute_result"
    }
   ],
   "source": [
    "df[\"kb\"].mean()"
   ]
  },
  {
   "cell_type": "code",
   "execution_count": 11,
   "metadata": {},
   "outputs": [
    {
     "data": {
      "text/html": [
       "<div>\n",
       "<style scoped>\n",
       "    .dataframe tbody tr th:only-of-type {\n",
       "        vertical-align: middle;\n",
       "    }\n",
       "\n",
       "    .dataframe tbody tr th {\n",
       "        vertical-align: top;\n",
       "    }\n",
       "\n",
       "    .dataframe thead th {\n",
       "        text-align: right;\n",
       "    }\n",
       "</style>\n",
       "<table border=\"1\" class=\"dataframe\">\n",
       "  <thead>\n",
       "    <tr style=\"text-align: right;\">\n",
       "      <th></th>\n",
       "      <th>R_in</th>\n",
       "      <th>V_out</th>\n",
       "      <th>kb</th>\n",
       "      <th>vj</th>\n",
       "      <th>s</th>\n",
       "    </tr>\n",
       "  </thead>\n",
       "  <tbody>\n",
       "    <tr>\n",
       "      <th>0</th>\n",
       "      <td>10.0</td>\n",
       "      <td>0.5755</td>\n",
       "      <td>2.142150e-23</td>\n",
       "      <td>10.0</td>\n",
       "      <td>2.559013e-19</td>\n",
       "    </tr>\n",
       "    <tr>\n",
       "      <th>1</th>\n",
       "      <td>10.0</td>\n",
       "      <td>0.5746</td>\n",
       "      <td>1.303918e-23</td>\n",
       "      <td>10.0</td>\n",
       "      <td>1.557660e-19</td>\n",
       "    </tr>\n",
       "    <tr>\n",
       "      <th>2</th>\n",
       "      <td>10.0</td>\n",
       "      <td>0.5740</td>\n",
       "      <td>7.450958e-24</td>\n",
       "      <td>10.0</td>\n",
       "      <td>8.900914e-20</td>\n",
       "    </tr>\n",
       "    <tr>\n",
       "      <th>3</th>\n",
       "      <td>10.0</td>\n",
       "      <td>0.5757</td>\n",
       "      <td>2.328424e-23</td>\n",
       "      <td>10.0</td>\n",
       "      <td>2.781536e-19</td>\n",
       "    </tr>\n",
       "    <tr>\n",
       "      <th>4</th>\n",
       "      <td>10.0</td>\n",
       "      <td>0.5762</td>\n",
       "      <td>2.794109e-23</td>\n",
       "      <td>10.0</td>\n",
       "      <td>3.337843e-19</td>\n",
       "    </tr>\n",
       "    <tr>\n",
       "      <th>5</th>\n",
       "      <td>10.0</td>\n",
       "      <td>0.5757</td>\n",
       "      <td>2.328424e-23</td>\n",
       "      <td>10.0</td>\n",
       "      <td>2.781536e-19</td>\n",
       "    </tr>\n",
       "    <tr>\n",
       "      <th>6</th>\n",
       "      <td>10.0</td>\n",
       "      <td>0.5746</td>\n",
       "      <td>1.303918e-23</td>\n",
       "      <td>10.0</td>\n",
       "      <td>1.557660e-19</td>\n",
       "    </tr>\n",
       "    <tr>\n",
       "      <th>7</th>\n",
       "      <td>10.0</td>\n",
       "      <td>0.5755</td>\n",
       "      <td>2.142150e-23</td>\n",
       "      <td>10.0</td>\n",
       "      <td>2.559013e-19</td>\n",
       "    </tr>\n",
       "    <tr>\n",
       "      <th>8</th>\n",
       "      <td>10.0</td>\n",
       "      <td>0.5748</td>\n",
       "      <td>1.490192e-23</td>\n",
       "      <td>10.0</td>\n",
       "      <td>1.780183e-19</td>\n",
       "    </tr>\n",
       "    <tr>\n",
       "      <th>9</th>\n",
       "      <td>10.0</td>\n",
       "      <td>0.5753</td>\n",
       "      <td>1.955876e-23</td>\n",
       "      <td>10.0</td>\n",
       "      <td>2.336490e-19</td>\n",
       "    </tr>\n",
       "    <tr>\n",
       "      <th>10</th>\n",
       "      <td>NaN</td>\n",
       "      <td>NaN</td>\n",
       "      <td>NaN</td>\n",
       "      <td>NaN</td>\n",
       "      <td>NaN</td>\n",
       "    </tr>\n",
       "    <tr>\n",
       "      <th>11</th>\n",
       "      <td>100.0</td>\n",
       "      <td>0.5893</td>\n",
       "      <td>1.499505e-23</td>\n",
       "      <td>100.0</td>\n",
       "      <td>1.791309e-18</td>\n",
       "    </tr>\n",
       "    <tr>\n",
       "      <th>12</th>\n",
       "      <td>100.0</td>\n",
       "      <td>0.5892</td>\n",
       "      <td>1.490192e-23</td>\n",
       "      <td>100.0</td>\n",
       "      <td>1.780183e-18</td>\n",
       "    </tr>\n",
       "    <tr>\n",
       "      <th>13</th>\n",
       "      <td>100.0</td>\n",
       "      <td>0.5884</td>\n",
       "      <td>1.415682e-23</td>\n",
       "      <td>100.0</td>\n",
       "      <td>1.691174e-18</td>\n",
       "    </tr>\n",
       "    <tr>\n",
       "      <th>14</th>\n",
       "      <td>100.0</td>\n",
       "      <td>0.5889</td>\n",
       "      <td>1.462250e-23</td>\n",
       "      <td>100.0</td>\n",
       "      <td>1.746804e-18</td>\n",
       "    </tr>\n",
       "    <tr>\n",
       "      <th>15</th>\n",
       "      <td>100.0</td>\n",
       "      <td>0.5867</td>\n",
       "      <td>1.257349e-23</td>\n",
       "      <td>100.0</td>\n",
       "      <td>1.502029e-18</td>\n",
       "    </tr>\n",
       "    <tr>\n",
       "      <th>16</th>\n",
       "      <td>100.0</td>\n",
       "      <td>0.5892</td>\n",
       "      <td>1.490192e-23</td>\n",
       "      <td>100.0</td>\n",
       "      <td>1.780183e-18</td>\n",
       "    </tr>\n",
       "    <tr>\n",
       "      <th>17</th>\n",
       "      <td>100.0</td>\n",
       "      <td>0.5889</td>\n",
       "      <td>1.462250e-23</td>\n",
       "      <td>100.0</td>\n",
       "      <td>1.746804e-18</td>\n",
       "    </tr>\n",
       "    <tr>\n",
       "      <th>18</th>\n",
       "      <td>100.0</td>\n",
       "      <td>0.5890</td>\n",
       "      <td>1.471564e-23</td>\n",
       "      <td>100.0</td>\n",
       "      <td>1.757931e-18</td>\n",
       "    </tr>\n",
       "    <tr>\n",
       "      <th>19</th>\n",
       "      <td>NaN</td>\n",
       "      <td>NaN</td>\n",
       "      <td>NaN</td>\n",
       "      <td>NaN</td>\n",
       "      <td>NaN</td>\n",
       "    </tr>\n",
       "    <tr>\n",
       "      <th>20</th>\n",
       "      <td>1000.0</td>\n",
       "      <td>0.7262</td>\n",
       "      <td>1.424996e-23</td>\n",
       "      <td>1000.0</td>\n",
       "      <td>1.702300e-17</td>\n",
       "    </tr>\n",
       "    <tr>\n",
       "      <th>21</th>\n",
       "      <td>1000.0</td>\n",
       "      <td>0.7279</td>\n",
       "      <td>1.440829e-23</td>\n",
       "      <td>1000.0</td>\n",
       "      <td>1.721214e-17</td>\n",
       "    </tr>\n",
       "    <tr>\n",
       "      <th>22</th>\n",
       "      <td>1000.0</td>\n",
       "      <td>0.7274</td>\n",
       "      <td>1.436172e-23</td>\n",
       "      <td>1000.0</td>\n",
       "      <td>1.715651e-17</td>\n",
       "    </tr>\n",
       "    <tr>\n",
       "      <th>23</th>\n",
       "      <td>1000.0</td>\n",
       "      <td>0.7280</td>\n",
       "      <td>1.441760e-23</td>\n",
       "      <td>1000.0</td>\n",
       "      <td>1.722327e-17</td>\n",
       "    </tr>\n",
       "    <tr>\n",
       "      <th>24</th>\n",
       "      <td>1000.0</td>\n",
       "      <td>0.7295</td>\n",
       "      <td>1.455731e-23</td>\n",
       "      <td>1000.0</td>\n",
       "      <td>1.739016e-17</td>\n",
       "    </tr>\n",
       "    <tr>\n",
       "      <th>25</th>\n",
       "      <td>1000.0</td>\n",
       "      <td>0.7300</td>\n",
       "      <td>1.460388e-23</td>\n",
       "      <td>1000.0</td>\n",
       "      <td>1.744579e-17</td>\n",
       "    </tr>\n",
       "    <tr>\n",
       "      <th>26</th>\n",
       "      <td>1000.0</td>\n",
       "      <td>0.7282</td>\n",
       "      <td>1.443623e-23</td>\n",
       "      <td>1000.0</td>\n",
       "      <td>1.724552e-17</td>\n",
       "    </tr>\n",
       "    <tr>\n",
       "      <th>27</th>\n",
       "      <td>1000.0</td>\n",
       "      <td>0.7286</td>\n",
       "      <td>1.447349e-23</td>\n",
       "      <td>1000.0</td>\n",
       "      <td>1.729003e-17</td>\n",
       "    </tr>\n",
       "    <tr>\n",
       "      <th>28</th>\n",
       "      <td>1000.0</td>\n",
       "      <td>0.7268</td>\n",
       "      <td>1.430584e-23</td>\n",
       "      <td>1000.0</td>\n",
       "      <td>1.708975e-17</td>\n",
       "    </tr>\n",
       "    <tr>\n",
       "      <th>29</th>\n",
       "      <td>1000.0</td>\n",
       "      <td>0.7271</td>\n",
       "      <td>1.433378e-23</td>\n",
       "      <td>1000.0</td>\n",
       "      <td>1.712313e-17</td>\n",
       "    </tr>\n",
       "    <tr>\n",
       "      <th>30</th>\n",
       "      <td>NaN</td>\n",
       "      <td>NaN</td>\n",
       "      <td>NaN</td>\n",
       "      <td>NaN</td>\n",
       "      <td>NaN</td>\n",
       "    </tr>\n",
       "    <tr>\n",
       "      <th>31</th>\n",
       "      <td>10000.0</td>\n",
       "      <td>2.0610</td>\n",
       "      <td>1.385692e-23</td>\n",
       "      <td>10000.0</td>\n",
       "      <td>1.655347e-16</td>\n",
       "    </tr>\n",
       "    <tr>\n",
       "      <th>32</th>\n",
       "      <td>10000.0</td>\n",
       "      <td>2.0790</td>\n",
       "      <td>1.402457e-23</td>\n",
       "      <td>10000.0</td>\n",
       "      <td>1.675375e-16</td>\n",
       "    </tr>\n",
       "    <tr>\n",
       "      <th>33</th>\n",
       "      <td>10000.0</td>\n",
       "      <td>2.0730</td>\n",
       "      <td>1.396868e-23</td>\n",
       "      <td>10000.0</td>\n",
       "      <td>1.668699e-16</td>\n",
       "    </tr>\n",
       "    <tr>\n",
       "      <th>34</th>\n",
       "      <td>10000.0</td>\n",
       "      <td>2.0830</td>\n",
       "      <td>1.406182e-23</td>\n",
       "      <td>10000.0</td>\n",
       "      <td>1.679825e-16</td>\n",
       "    </tr>\n",
       "    <tr>\n",
       "      <th>35</th>\n",
       "      <td>10000.0</td>\n",
       "      <td>2.0760</td>\n",
       "      <td>1.399662e-23</td>\n",
       "      <td>10000.0</td>\n",
       "      <td>1.672037e-16</td>\n",
       "    </tr>\n",
       "    <tr>\n",
       "      <th>36</th>\n",
       "      <td>10000.0</td>\n",
       "      <td>2.0790</td>\n",
       "      <td>1.402457e-23</td>\n",
       "      <td>10000.0</td>\n",
       "      <td>1.675375e-16</td>\n",
       "    </tr>\n",
       "    <tr>\n",
       "      <th>37</th>\n",
       "      <td>10000.0</td>\n",
       "      <td>2.0770</td>\n",
       "      <td>1.400594e-23</td>\n",
       "      <td>10000.0</td>\n",
       "      <td>1.673149e-16</td>\n",
       "    </tr>\n",
       "    <tr>\n",
       "      <th>38</th>\n",
       "      <td>10000.0</td>\n",
       "      <td>2.0810</td>\n",
       "      <td>1.404319e-23</td>\n",
       "      <td>10000.0</td>\n",
       "      <td>1.677600e-16</td>\n",
       "    </tr>\n",
       "    <tr>\n",
       "      <th>39</th>\n",
       "      <td>10000.0</td>\n",
       "      <td>2.0770</td>\n",
       "      <td>1.400594e-23</td>\n",
       "      <td>10000.0</td>\n",
       "      <td>1.673149e-16</td>\n",
       "    </tr>\n",
       "    <tr>\n",
       "      <th>40</th>\n",
       "      <td>10000.0</td>\n",
       "      <td>2.0820</td>\n",
       "      <td>1.405251e-23</td>\n",
       "      <td>10000.0</td>\n",
       "      <td>1.678712e-16</td>\n",
       "    </tr>\n",
       "  </tbody>\n",
       "</table>\n",
       "</div>"
      ],
      "text/plain": [
       "       R_in   V_out            kb       vj             s\n",
       "0      10.0  0.5755  2.142150e-23     10.0  2.559013e-19\n",
       "1      10.0  0.5746  1.303918e-23     10.0  1.557660e-19\n",
       "2      10.0  0.5740  7.450958e-24     10.0  8.900914e-20\n",
       "3      10.0  0.5757  2.328424e-23     10.0  2.781536e-19\n",
       "4      10.0  0.5762  2.794109e-23     10.0  3.337843e-19\n",
       "5      10.0  0.5757  2.328424e-23     10.0  2.781536e-19\n",
       "6      10.0  0.5746  1.303918e-23     10.0  1.557660e-19\n",
       "7      10.0  0.5755  2.142150e-23     10.0  2.559013e-19\n",
       "8      10.0  0.5748  1.490192e-23     10.0  1.780183e-19\n",
       "9      10.0  0.5753  1.955876e-23     10.0  2.336490e-19\n",
       "10      NaN     NaN           NaN      NaN           NaN\n",
       "11    100.0  0.5893  1.499505e-23    100.0  1.791309e-18\n",
       "12    100.0  0.5892  1.490192e-23    100.0  1.780183e-18\n",
       "13    100.0  0.5884  1.415682e-23    100.0  1.691174e-18\n",
       "14    100.0  0.5889  1.462250e-23    100.0  1.746804e-18\n",
       "15    100.0  0.5867  1.257349e-23    100.0  1.502029e-18\n",
       "16    100.0  0.5892  1.490192e-23    100.0  1.780183e-18\n",
       "17    100.0  0.5889  1.462250e-23    100.0  1.746804e-18\n",
       "18    100.0  0.5890  1.471564e-23    100.0  1.757931e-18\n",
       "19      NaN     NaN           NaN      NaN           NaN\n",
       "20   1000.0  0.7262  1.424996e-23   1000.0  1.702300e-17\n",
       "21   1000.0  0.7279  1.440829e-23   1000.0  1.721214e-17\n",
       "22   1000.0  0.7274  1.436172e-23   1000.0  1.715651e-17\n",
       "23   1000.0  0.7280  1.441760e-23   1000.0  1.722327e-17\n",
       "24   1000.0  0.7295  1.455731e-23   1000.0  1.739016e-17\n",
       "25   1000.0  0.7300  1.460388e-23   1000.0  1.744579e-17\n",
       "26   1000.0  0.7282  1.443623e-23   1000.0  1.724552e-17\n",
       "27   1000.0  0.7286  1.447349e-23   1000.0  1.729003e-17\n",
       "28   1000.0  0.7268  1.430584e-23   1000.0  1.708975e-17\n",
       "29   1000.0  0.7271  1.433378e-23   1000.0  1.712313e-17\n",
       "30      NaN     NaN           NaN      NaN           NaN\n",
       "31  10000.0  2.0610  1.385692e-23  10000.0  1.655347e-16\n",
       "32  10000.0  2.0790  1.402457e-23  10000.0  1.675375e-16\n",
       "33  10000.0  2.0730  1.396868e-23  10000.0  1.668699e-16\n",
       "34  10000.0  2.0830  1.406182e-23  10000.0  1.679825e-16\n",
       "35  10000.0  2.0760  1.399662e-23  10000.0  1.672037e-16\n",
       "36  10000.0  2.0790  1.402457e-23  10000.0  1.675375e-16\n",
       "37  10000.0  2.0770  1.400594e-23  10000.0  1.673149e-16\n",
       "38  10000.0  2.0810  1.404319e-23  10000.0  1.677600e-16\n",
       "39  10000.0  2.0770  1.400594e-23  10000.0  1.673149e-16\n",
       "40  10000.0  2.0820  1.405251e-23  10000.0  1.678712e-16"
      ]
     },
     "execution_count": 11,
     "metadata": {},
     "output_type": "execute_result"
    }
   ],
   "source": [
    "df"
   ]
  },
  {
   "cell_type": "code",
   "execution_count": 12,
   "metadata": {},
   "outputs": [],
   "source": [
    "# y = S, x = R\n",
    "\n"
   ]
  },
  {
   "cell_type": "code",
   "execution_count": 17,
   "metadata": {},
   "outputs": [
    {
     "data": {
      "image/png": "[encoded data removed]",
      "text/plain": [
       "<Figure size 432x288 with 1 Axes>"
      ]
     },
     "metadata": {
      "needs_background": "light"
     },
     "output_type": "display_data"
    },
    {
     "name": "stderr",
     "output_type": "stream",
     "text": [
      "C:\\Users\\sevde\\anaconda3\\lib\\site-packages\\seaborn\\_decorators.py:36: FutureWarning: Pass the following variables as keyword args: x, y. From version 0.12, the only valid positional argument will be `data`, and passing other arguments without an explicit keyword will result in an error or misinterpretation.\n",
      "  warnings.warn(\n"
     ]
    },
    {
     "data": {
      "text/plain": [
       "<AxesSubplot:xlabel='R_in', ylabel='s'>"
      ]
     },
     "execution_count": 17,
     "metadata": {},
     "output_type": "execute_result"
    },
    {
     "data": {
      "image/png": "[encoded data removed]",
      "text/plain": [
       "<Figure size 432x288 with 1 Axes>"
      ]
     },
     "metadata": {
      "needs_background": "light"
     },
     "output_type": "display_data"
    }
   ],
   "source": [
    "import matplotlib.pyplot as plt\n",
    "plt.scatter(df['R_in'], df['s'])\n",
    "plt.show() # Depending on whether you use IPython or interactive mode, etc.\n",
    "import seaborn as sns\n",
    "sns.regplot(df['R_in'], df['s'],x_estimator=np.mean)"
   ]
  },
  {
   "cell_type": "code",
   "execution_count": 16,
   "metadata": {},
   "outputs": [
    {
     "ename": "LinAlgError",
     "evalue": "SVD did not converge in Linear Least Squares",
     "output_type": "error",
     "traceback": [
      "\u001b[1;31m---------------------------------------------------------------------------\u001b[0m",
      "\u001b[1;31mLinAlgError\u001b[0m                               Traceback (most recent call last)",
      "\u001b[1;32m~\\AppData\\Local\\Temp/ipykernel_26992/2407417211.py\u001b[0m in \u001b[0;36m<module>\u001b[1;34m\u001b[0m\n\u001b[1;32m----> 1\u001b[1;33m \u001b[0mfit_line\u001b[0m\u001b[1;33m(\u001b[0m\u001b[0mdf\u001b[0m\u001b[1;33m[\u001b[0m\u001b[1;34m'R_in'\u001b[0m\u001b[1;33m]\u001b[0m\u001b[1;33m,\u001b[0m \u001b[0mdf\u001b[0m\u001b[1;33m[\u001b[0m\u001b[1;34m's'\u001b[0m\u001b[1;33m]\u001b[0m\u001b[1;33m)\u001b[0m\u001b[1;33m\u001b[0m\u001b[1;33m\u001b[0m\u001b[0m\n\u001b[0m",
      "\u001b[1;32m~\\AppData\\Local\\Temp/ipykernel_26992/870783356.py\u001b[0m in \u001b[0;36mfit_line\u001b[1;34m(x, y)\u001b[0m\n\u001b[0;32m     16\u001b[0m \u001b[1;33m\u001b[0m\u001b[0m\n\u001b[0;32m     17\u001b[0m     \u001b[0mA\u001b[0m \u001b[1;33m=\u001b[0m \u001b[0mnp\u001b[0m\u001b[1;33m.\u001b[0m\u001b[0mvstack\u001b[0m\u001b[1;33m(\u001b[0m\u001b[1;33m[\u001b[0m\u001b[0mx\u001b[0m\u001b[1;33m,\u001b[0m \u001b[0mnp\u001b[0m\u001b[1;33m.\u001b[0m\u001b[0mones\u001b[0m\u001b[1;33m(\u001b[0m\u001b[0mlen\u001b[0m\u001b[1;33m(\u001b[0m\u001b[0mx\u001b[0m\u001b[1;33m)\u001b[0m\u001b[1;33m)\u001b[0m\u001b[1;33m]\u001b[0m\u001b[1;33m)\u001b[0m\u001b[1;33m.\u001b[0m\u001b[0mT\u001b[0m \u001b[1;31m# sent the design matrix using the intercepts\u001b[0m\u001b[1;33m\u001b[0m\u001b[1;33m\u001b[0m\u001b[0m\n\u001b[1;32m---> 18\u001b[1;33m     \u001b[0mm\u001b[0m\u001b[1;33m,\u001b[0m \u001b[0mc\u001b[0m \u001b[1;33m=\u001b[0m \u001b[0mnp\u001b[0m\u001b[1;33m.\u001b[0m\u001b[0mlinalg\u001b[0m\u001b[1;33m.\u001b[0m\u001b[0mlstsq\u001b[0m\u001b[1;33m(\u001b[0m\u001b[0mA\u001b[0m\u001b[1;33m,\u001b[0m \u001b[0my\u001b[0m\u001b[1;33m,\u001b[0m \u001b[0mrcond\u001b[0m\u001b[1;33m=\u001b[0m\u001b[1;32mNone\u001b[0m\u001b[1;33m)\u001b[0m\u001b[1;33m[\u001b[0m\u001b[1;36m0\u001b[0m\u001b[1;33m]\u001b[0m\u001b[1;33m\u001b[0m\u001b[1;33m\u001b[0m\u001b[0m\n\u001b[0m\u001b[0;32m     19\u001b[0m \u001b[1;33m\u001b[0m\u001b[0m\n\u001b[0;32m     20\u001b[0m     \u001b[1;32mreturn\u001b[0m \u001b[0mm\u001b[0m\u001b[1;33m,\u001b[0m \u001b[0mc\u001b[0m\u001b[1;33m\u001b[0m\u001b[1;33m\u001b[0m\u001b[0m\n",
      "\u001b[1;32m<__array_function__ internals>\u001b[0m in \u001b[0;36mlstsq\u001b[1;34m(*args, **kwargs)\u001b[0m\n",
      "\u001b[1;32m~\\anaconda3\\lib\\site-packages\\numpy\\linalg\\linalg.py\u001b[0m in \u001b[0;36mlstsq\u001b[1;34m(a, b, rcond)\u001b[0m\n\u001b[0;32m   2303\u001b[0m         \u001b[1;31m# lapack can't handle n_rhs = 0 - so allocate the array one larger in that axis\u001b[0m\u001b[1;33m\u001b[0m\u001b[1;33m\u001b[0m\u001b[0m\n\u001b[0;32m   2304\u001b[0m         \u001b[0mb\u001b[0m \u001b[1;33m=\u001b[0m \u001b[0mzeros\u001b[0m\u001b[1;33m(\u001b[0m\u001b[0mb\u001b[0m\u001b[1;33m.\u001b[0m\u001b[0mshape\u001b[0m\u001b[1;33m[\u001b[0m\u001b[1;33m:\u001b[0m\u001b[1;33m-\u001b[0m\u001b[1;36m2\u001b[0m\u001b[1;33m]\u001b[0m \u001b[1;33m+\u001b[0m \u001b[1;33m(\u001b[0m\u001b[0mm\u001b[0m\u001b[1;33m,\u001b[0m \u001b[0mn_rhs\u001b[0m \u001b[1;33m+\u001b[0m \u001b[1;36m1\u001b[0m\u001b[1;33m)\u001b[0m\u001b[1;33m,\u001b[0m \u001b[0mdtype\u001b[0m\u001b[1;33m=\u001b[0m\u001b[0mb\u001b[0m\u001b[1;33m.\u001b[0m\u001b[0mdtype\u001b[0m\u001b[1;33m)\u001b[0m\u001b[1;33m\u001b[0m\u001b[1;33m\u001b[0m\u001b[0m\n\u001b[1;32m-> 2305\u001b[1;33m     \u001b[0mx\u001b[0m\u001b[1;33m,\u001b[0m \u001b[0mresids\u001b[0m\u001b[1;33m,\u001b[0m \u001b[0mrank\u001b[0m\u001b[1;33m,\u001b[0m \u001b[0ms\u001b[0m \u001b[1;33m=\u001b[0m \u001b[0mgufunc\u001b[0m\u001b[1;33m(\u001b[0m\u001b[0ma\u001b[0m\u001b[1;33m,\u001b[0m \u001b[0mb\u001b[0m\u001b[1;33m,\u001b[0m \u001b[0mrcond\u001b[0m\u001b[1;33m,\u001b[0m \u001b[0msignature\u001b[0m\u001b[1;33m=\u001b[0m\u001b[0msignature\u001b[0m\u001b[1;33m,\u001b[0m \u001b[0mextobj\u001b[0m\u001b[1;33m=\u001b[0m\u001b[0mextobj\u001b[0m\u001b[1;33m)\u001b[0m\u001b[1;33m\u001b[0m\u001b[1;33m\u001b[0m\u001b[0m\n\u001b[0m\u001b[0;32m   2306\u001b[0m     \u001b[1;32mif\u001b[0m \u001b[0mm\u001b[0m \u001b[1;33m==\u001b[0m \u001b[1;36m0\u001b[0m\u001b[1;33m:\u001b[0m\u001b[1;33m\u001b[0m\u001b[1;33m\u001b[0m\u001b[0m\n\u001b[0;32m   2307\u001b[0m         \u001b[0mx\u001b[0m\u001b[1;33m[\u001b[0m\u001b[1;33m...\u001b[0m\u001b[1;33m]\u001b[0m \u001b[1;33m=\u001b[0m \u001b[1;36m0\u001b[0m\u001b[1;33m\u001b[0m\u001b[1;33m\u001b[0m\u001b[0m\n",
      "\u001b[1;32m~\\anaconda3\\lib\\site-packages\\numpy\\linalg\\linalg.py\u001b[0m in \u001b[0;36m_raise_linalgerror_lstsq\u001b[1;34m(err, flag)\u001b[0m\n\u001b[0;32m     98\u001b[0m \u001b[1;33m\u001b[0m\u001b[0m\n\u001b[0;32m     99\u001b[0m \u001b[1;32mdef\u001b[0m \u001b[0m_raise_linalgerror_lstsq\u001b[0m\u001b[1;33m(\u001b[0m\u001b[0merr\u001b[0m\u001b[1;33m,\u001b[0m \u001b[0mflag\u001b[0m\u001b[1;33m)\u001b[0m\u001b[1;33m:\u001b[0m\u001b[1;33m\u001b[0m\u001b[1;33m\u001b[0m\u001b[0m\n\u001b[1;32m--> 100\u001b[1;33m     \u001b[1;32mraise\u001b[0m \u001b[0mLinAlgError\u001b[0m\u001b[1;33m(\u001b[0m\u001b[1;34m\"SVD did not converge in Linear Least Squares\"\u001b[0m\u001b[1;33m)\u001b[0m\u001b[1;33m\u001b[0m\u001b[1;33m\u001b[0m\u001b[0m\n\u001b[0m\u001b[0;32m    101\u001b[0m \u001b[1;33m\u001b[0m\u001b[0m\n\u001b[0;32m    102\u001b[0m \u001b[1;32mdef\u001b[0m \u001b[0mget_linalg_error_extobj\u001b[0m\u001b[1;33m(\u001b[0m\u001b[0mcallback\u001b[0m\u001b[1;33m)\u001b[0m\u001b[1;33m:\u001b[0m\u001b[1;33m\u001b[0m\u001b[1;33m\u001b[0m\u001b[0m\n",
      "\u001b[1;31mLinAlgError\u001b[0m: SVD did not converge in Linear Least Squares"
     ]
    }
   ],
   "source": [
    "fit_line(df['R_in'], df['s'])"
   ]
  },
  {
   "cell_type": "code",
   "execution_count": null,
   "metadata": {},
   "outputs": [],
   "source": []
  }
 ],
 "metadata": {
  "interpreter": {
   "hash": "f4722efe245817bfc3bb8a4fead8316a452afa2e58a94a6104a75f8476cbead1"
  },
  "kernelspec": {
   "display_name": "Python 3.9.7 64-bit ('base': conda)",
   "language": "python",
   "name": "python3"
  },
  "language_info": {
   "codemirror_mode": {
    "name": "ipython",
    "version": 3
   },
   "file_extension": ".py",
   "mimetype": "text/x-python",
   "name": "python",
   "nbconvert_exporter": "python",
   "pygments_lexer": "ipython3",
   "version": "3.9.7"
  },
  "orig_nbformat": 4
 },
 "nbformat": 4,
 "nbformat_minor": 2
}
