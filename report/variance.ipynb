{
 "cells": [
  {
   "cell_type": "code",
   "execution_count": 16,
   "metadata": {},
   "outputs": [
    {
     "ename": "ModuleNotFoundError",
     "evalue": "No module named 'dataframe_image'",
     "output_type": "error",
     "traceback": [
      "\u001b[1;31m---------------------------------------------------------------------------\u001b[0m",
      "\u001b[1;31mModuleNotFoundError\u001b[0m                       Traceback (most recent call last)",
      "\u001b[1;32m<ipython-input-16-0e9c76a5479d>\u001b[0m in \u001b[0;36m<module>\u001b[1;34m\u001b[0m\n\u001b[0;32m      3\u001b[0m \u001b[1;33m\u001b[0m\u001b[0m\n\u001b[0;32m      4\u001b[0m \u001b[1;32mimport\u001b[0m \u001b[0mpandas\u001b[0m \u001b[1;32mas\u001b[0m \u001b[0mpd\u001b[0m\u001b[1;33m\u001b[0m\u001b[1;33m\u001b[0m\u001b[0m\n\u001b[1;32m----> 5\u001b[1;33m \u001b[1;32mimport\u001b[0m \u001b[0mdataframe_image\u001b[0m \u001b[1;32mas\u001b[0m \u001b[0mdfi\u001b[0m\u001b[1;33m\u001b[0m\u001b[1;33m\u001b[0m\u001b[0m\n\u001b[0m\u001b[0;32m      6\u001b[0m \u001b[1;33m\u001b[0m\u001b[0m\n\u001b[0;32m      7\u001b[0m \u001b[0mdf\u001b[0m \u001b[1;33m=\u001b[0m \u001b[0mpd\u001b[0m\u001b[1;33m.\u001b[0m\u001b[0mread_csv\u001b[0m\u001b[1;33m(\u001b[0m\u001b[1;34m\"data/v-n-calculation-johnson-resistance.csv\"\u001b[0m\u001b[1;33m)\u001b[0m\u001b[1;33m\u001b[0m\u001b[1;33m\u001b[0m\u001b[0m\n",
      "\u001b[1;31mModuleNotFoundError\u001b[0m: No module named 'dataframe_image'"
     ]
    }
   ],
   "source": [
    "# ! For the VN for resistance\n",
    "\n",
    "\n",
    "import pandas as pd\n",
    "import dataframe_image as dfi\n",
    " \n",
    "df = pd.read_csv(\"data/v-n-calculation-johnson-resistance.csv\")\n",
    "# df\n",
    "print(\"Average = \" + str(df['V'].mean()))\n",
    "# dfi.export(df, 'img/dataframe.png')\n",
    "print(\"Variaton = \" + str(df['V'].sem()))\n"
   ]
  },
  {
   "cell_type": "code",
   "execution_count": 18,
   "metadata": {},
   "outputs": [
    {
     "name": "stdout",
     "output_type": "stream",
     "text": [
      "Average = 1.5393421052631589e-23\n",
      "Variaton = 5.883475275138762e-25\n"
     ]
    }
   ],
   "source": [
    "df = pd.read_csv(\"data/johnson-resistance.csv\")\n",
    "print(\"Average = \" + str(df['Boltzmanns Constant'].mean()))\n",
    "# dfi.export(df, 'img/dataframe.png')\n",
    "print(\"Variaton = \" + str(df['Boltzmanns Constant'].sem()))"
   ]
  },
  {
   "cell_type": "code",
   "execution_count": 20,
   "metadata": {},
   "outputs": [
    {
     "name": "stdout",
     "output_type": "stream",
     "text": [
      "Average = 1.368409090909091e-23\n",
      "Variaton = 5.507473126078791e-26\n"
     ]
    }
   ],
   "source": [
    "df = pd.read_csv(\"data/johnson-temp.csv\")\n",
    "print(\"Average = \" + str(df['kb'].mean()))\n",
    "# dfi.export(df, 'img/dataframe.png')\n",
    "print(\"Variaton = \" + str(df['kb'].sem()))"
   ]
  },
  {
   "cell_type": "code",
   "execution_count": 54,
   "metadata": {},
   "outputs": [
    {
     "name": "stdout",
     "output_type": "stream",
     "text": [
      "       F_LP      DF     Vout         Ishot             e\n",
      "0   100,000  111060  1.20320  4.580000e-19  2.061948e-19\n",
      "1   100,000  111060  1.18140  4.450000e-19  2.003422e-19\n",
      "2   100,000  111060  1.17230  4.390000e-19  1.976409e-19\n",
      "3   100,000  111060  1.20230  4.580000e-19  2.061948e-19\n",
      "4   100,000  111060  1.28780  5.110000e-19  2.300558e-19\n",
      "5   100,000  111060  1.28030  5.060000e-19  2.278048e-19\n",
      "6   100,000  111060  1.15790  4.300000e-19  1.935891e-19\n",
      "7   100,000  111060  1.12700  4.110000e-19  1.850351e-19\n",
      "8   100,000  111060  1.22030  4.690000e-19  2.111471e-19\n",
      "9   100,000  111060  1.32680  5.360000e-19  2.413110e-19\n",
      "10    33000   36650  0.36730 -6.420000e-20 -8.758527e-20\n",
      "11    33000   36650  0.35820 -6.990000e-20 -9.536153e-20\n",
      "12    33000   36650  0.36360 -6.650000e-20 -9.072306e-20\n",
      "13    33000   36650  0.35980 -6.890000e-20 -9.399727e-20\n",
      "14    33000   36650  0.44820 -1.360000e-20 -1.855389e-20\n",
      "15    33000   36650  0.37110 -6.180000e-20 -8.431105e-20\n",
      "16    33000   36650  0.39510 -4.680000e-20 -6.384720e-20\n",
      "17    33000   36650  0.37770 -5.770000e-20 -7.871760e-20\n",
      "18    33000   36650  0.39320 -4.800000e-20 -6.548431e-20\n",
      "19    33000   36650  0.40120 -4.300000e-20 -5.866303e-20\n",
      "20    10000   12000  0.22010 -1.560000e-19 -6.500000e-19\n",
      "21    10000   12000  0.20630 -1.650000e-19 -6.875000e-19\n",
      "22    10000   12000  0.15750 -1.950000e-19 -8.125000e-19\n",
      "23    10000   12000  0.15560 -1.960000e-19 -8.166667e-19\n",
      "24    10000   12000  0.19560 -1.710000e-19 -7.125000e-19\n",
      "25    10000   12000  0.15080 -1.990000e-19 -8.291667e-19\n",
      "26    10000   12000  0.15130 -1.990000e-19 -8.291667e-19\n",
      "27    10000   12000  0.16690 -1.890000e-19 -7.875000e-19\n",
      "28    10000   12000  0.17500 -1.840000e-19 -7.666667e-19\n",
      "29    10000   12000  0.15020 -2.000000e-19 -8.333333e-19\n",
      "30     3300    3700  0.05234 -2.610000e-19 -3.527027e-18\n",
      "31     3300    3700  0.04948 -2.630000e-19 -3.554054e-18\n",
      "32     3300    3700  0.05148 -2.620000e-19 -3.540541e-18\n",
      "33     3300    3700  0.05361 -2.600000e-19 -3.513514e-18\n",
      "34     3300    3700  0.05411 -2.600000e-19 -3.513514e-18\n",
      "35     3300    3700  0.05060 -2.620000e-19 -3.540541e-18\n",
      "36     3300    3700  0.04948 -2.630000e-19 -3.554054e-18\n",
      "37     3300    3700  0.06067 -2.560000e-19 -3.459459e-18\n",
      "38     3300    3700  0.05205 -2.610000e-19 -3.527027e-18\n",
      "39     3300    3700  0.04620 -2.650000e-19 -3.581081e-18\n",
      "40     1000    1250  0.02400 -2.790000e-19 -1.116000e-17\n",
      "41     1000    1250  0.02561 -2.780000e-19 -1.112000e-17\n",
      "42     1000    1250  0.02779 -2.760000e-19 -1.104000e-17\n",
      "43     1000    1250  0.02600 -2.770000e-19 -1.108000e-17\n",
      "44     1000    1250  0.03496 -2.720000e-19 -1.088000e-17\n",
      "45     1000    1250  0.03384 -2.730000e-19 -1.092000e-17\n",
      "46     1000    1250  0.02203 -2.800000e-19 -1.120000e-17\n",
      "47     1000    1250  0.02521 -2.780000e-19 -1.112000e-17\n",
      "48     1000    1250  0.03390 -2.730000e-19 -1.092000e-17\n",
      "49     1000    1250  0.02296 -2.790000e-19 -1.116000e-17\n",
      "50     1000    1250  0.02774 -2.760000e-19 -1.104000e-17\n",
      "51      330     360  0.01247 -2.860000e-19 -3.972222e-17\n",
      "52      330     360  0.01607 -2.840000e-19 -3.944444e-17\n",
      "53      330     360  0.01344 -2.850000e-19 -3.958333e-17\n",
      "54      330     360  0.01190 -2.860000e-19 -3.972222e-17\n",
      "55      330     360  0.00867 -2.880000e-19 -4.000000e-17\n",
      "56      330     360  0.01121 -2.870000e-19 -3.986111e-17\n",
      "57      330     360  0.00989 -2.880000e-19 -4.000000e-17\n",
      "58      330     360  0.01304 -2.860000e-19 -3.972222e-17\n",
      "59      330     360  0.01981 -2.810000e-19 -3.902778e-17\n",
      "Average = -8.673284544347315e-18\n",
      "Variaton = 1.7732503005169772e-18\n"
     ]
    }
   ],
   "source": [
    "df = pd.read_csv(\"data/shot-varyf.csv\")\n",
    "\n",
    "def calc_e(Ishot, Idc, df):\n",
    "    return Ishot / ( 2 * Idc * df)\n",
    "\n",
    "df['e'] = df[\"Ishot\"]\n",
    "\n",
    "# df['DF'] = \"{:f}\".format(df['DF'])\n",
    "# for i in range(len(df)):\n",
    "#     df['e'][i] = calc_e(df[\"Ishot\"][i], .00001, df['DF'][i])\n",
    "df['e'] = calc_e(df[\"Ishot\"], .00001, df[\"DF\"])\n",
    "print(df)\n",
    "\n",
    "\n",
    "\n",
    "\n",
    "print(\"Average = \" + str(df['e'].mean()))\n",
    "# dfi.export(df, 'img/dataframe.png')\n",
    "print(\"Variaton = \" + str(df['e'].sem()))"
   ]
  },
  {
   "cell_type": "code",
   "execution_count": 45,
   "metadata": {},
   "outputs": [
    {
     "name": "stdout",
     "output_type": "stream",
     "text": [
      "32340.000000\n"
     ]
    }
   ],
   "source": [
    "x = 3.234e+4\n",
    " \n",
    "print(\"{:f}\".format(x))"
   ]
  },
  {
   "cell_type": "code",
   "execution_count": 56,
   "metadata": {},
   "outputs": [
    {
     "name": "stdout",
     "output_type": "stream",
     "text": [
      "Average = 1.6074509803921578e-19\n",
      "Variaton = 2.6399410476565353e-21\n"
     ]
    }
   ],
   "source": [
    "df = pd.read_csv(\"data/shot-varya.csv\")\n",
    "\n",
    "\n",
    "\n",
    "\n",
    "\n",
    "# df['DF'] = \"{:f}\".format(df['DF'])\n",
    "# for i in range(len(df)):\n",
    "#     df['e'][i] = calc_e(df[\"Ishot\"][i], .00001, df['DF'][i])\n",
    "\n",
    "\n",
    "\n",
    "\n",
    "\n",
    "print(\"Average = \" + str(df['e'].mean()))\n",
    "# dfi.export(df, 'img/dataframe.png')\n",
    "print(\"Variaton = \" + str(df['e'].sem()))"
   ]
  },
  {
   "cell_type": "code",
   "execution_count": null,
   "metadata": {},
   "outputs": [],
   "source": []
  }
 ],
 "metadata": {
  "interpreter": {
   "hash": "ca49ff0ffe1808df299e2fa61a14697f92eb8fb3e9a660d64db98d3fdcc9e2a2"
  },
  "kernelspec": {
   "display_name": "Python 3.8.8 ('base')",
   "language": "python",
   "name": "python3"
  },
  "language_info": {
   "codemirror_mode": {
    "name": "ipython",
    "version": 3
   },
   "file_extension": ".py",
   "mimetype": "text/x-python",
   "name": "python",
   "nbconvert_exporter": "python",
   "pygments_lexer": "ipython3",
   "version": "3.8.8"
  },
  "orig_nbformat": 4
 },
 "nbformat": 4,
 "nbformat_minor": 2
}
